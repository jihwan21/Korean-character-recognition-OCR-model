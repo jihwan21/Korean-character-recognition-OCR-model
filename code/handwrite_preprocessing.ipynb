{
 "cells": [
  {
   "cell_type": "code",
   "execution_count": 1,
   "id": "bcbdb37f",
   "metadata": {
    "ExecuteTime": {
     "end_time": "2023-12-04T02:57:47.383549Z",
     "start_time": "2023-12-04T02:57:47.187664Z"
    }
   },
   "outputs": [],
   "source": [
    "import json\n",
    "import random\n",
    "import os\n",
    "import cv2"
   ]
  },
  {
   "cell_type": "code",
   "execution_count": 2,
   "id": "0cff5081",
   "metadata": {
    "ExecuteTime": {
     "end_time": "2023-12-04T02:57:47.576987Z",
     "start_time": "2023-12-04T02:57:47.387498Z"
    }
   },
   "outputs": [
    {
     "data": {
      "text/plain": [
       "100170"
      ]
     },
     "execution_count": 2,
     "metadata": {},
     "output_type": "execute_result"
    }
   ],
   "source": [
    "ocr_image = os.listdir('./data/img')\n",
    "len(ocr_image)"
   ]
  },
  {
   "cell_type": "code",
   "execution_count": 4,
   "id": "99532d5a",
   "metadata": {
    "ExecuteTime": {
     "end_time": "2023-12-04T02:57:48.156742Z",
     "start_time": "2023-12-04T02:57:48.039018Z"
    }
   },
   "outputs": [],
   "source": [
    "# 이미지 랜덤으로 섞기\n",
    "random.shuffle(ocr_image)\n",
    "\n",
    "# 일정 비율로 데이터 분할\n",
    "n_train = int(len(ocr_image) * 0.7)\n",
    "n_validation = int(len(ocr_image) * 0.15)\n",
    "n_test = int(len(ocr_image) * 0.15)"
   ]
  },
  {
   "cell_type": "code",
   "execution_count": 5,
   "id": "56306e7c",
   "metadata": {
    "ExecuteTime": {
     "end_time": "2023-12-04T02:57:48.654405Z",
     "start_time": "2023-12-04T02:57:48.645796Z"
    }
   },
   "outputs": [
    {
     "data": {
      "text/plain": [
       "(70119, 15025, 15025)"
      ]
     },
     "execution_count": 5,
     "metadata": {},
     "output_type": "execute_result"
    }
   ],
   "source": [
    "n_train, n_validation, n_test"
   ]
  },
  {
   "cell_type": "code",
   "execution_count": 6,
   "id": "1991b21a",
   "metadata": {
    "ExecuteTime": {
     "end_time": "2023-12-04T02:57:50.270166Z",
     "start_time": "2023-12-04T02:57:50.262205Z"
    }
   },
   "outputs": [],
   "source": [
    "# 각 비율별로 이미지 할당\n",
    "train_files = ocr_image[:n_train]\n",
    "validation_files = ocr_image[n_train: n_train+n_validation]\n",
    "test_files = ocr_image[-n_test:]"
   ]
  },
  {
   "cell_type": "code",
   "execution_count": 7,
   "id": "be0c9440",
   "metadata": {
    "ExecuteTime": {
     "end_time": "2023-12-04T02:57:51.824707Z",
     "start_time": "2023-12-04T02:57:51.812510Z"
    }
   },
   "outputs": [],
   "source": [
    "# json 파일에서 라벨 text끼리 join하는 함수\n",
    "def makeWord(img_id):\n",
    "    file = json.load(open(f'./dataset/label/{img_id[:-4]}.json', encoding = 'UTF-8'))\n",
    "    word = ''\n",
    "    for i in range(len(file['text']['word'])):\n",
    "        word += file['text']['word'][i]['value']\n",
    "    return word"
   ]
  },
  {
   "cell_type": "markdown",
   "id": "badb1746",
   "metadata": {},
   "source": [
    "- 학습과 테스트에 쓰이는 img 해당 폴더에 옮기는 과정"
   ]
  },
  {
   "cell_type": "code",
   "execution_count": 8,
   "id": "ac60ed98",
   "metadata": {
    "ExecuteTime": {
     "end_time": "2023-12-04T03:00:48.037119Z",
     "start_time": "2023-12-04T02:57:56.265846Z"
    }
   },
   "outputs": [],
   "source": [
    "# train 폴더에 해당하는 img 옮기기\n",
    "for val in train_files:\n",
    "    img = cv2.imread('./data/img/' + val)\n",
    "    cv2.imwrite('./data/train/' + val, img)\n",
    "\n",
    "# validation 폴더에 해당하는 img 옮기기\n",
    "for val in validation_files:\n",
    "    img = cv2.imread('./data/img/' + val)\n",
    "    cv2.imwrite('./data/val/' + val, img)\n",
    "    \n",
    "# test 폴더에 해당하는 img 옮기기\n",
    "for val in test_files:\n",
    "    img = cv2.imread('./data/img/' + val)\n",
    "    cv2.imwrite('./data/test/' + val, img)"
   ]
  },
  {
   "cell_type": "markdown",
   "id": "e52023e4",
   "metadata": {},
   "source": [
    "- 옮긴 img에 맞는 label(정답)값 txt에 작성"
   ]
  },
  {
   "cell_type": "code",
   "execution_count": 9,
   "id": "e9733340",
   "metadata": {
    "ExecuteTime": {
     "end_time": "2023-12-04T03:07:07.278668Z",
     "start_time": "2023-12-04T03:00:48.097067Z"
    }
   },
   "outputs": [],
   "source": [
    "# train img id와 label txt파일에 write\n",
    "gt_file = open('./data/gt_train.txt', 'w')\n",
    "for val in train_files:\n",
    "    word = makeWord(val)\n",
    "    gt_file.write(\"train/{}\\t{}\\n\".format(val, word))\n",
    "\n",
    "# validation img id와 label txt파일에 write\n",
    "gt_file = open('./data/gt_val.txt', 'w')\n",
    "for val in validation_files:\n",
    "    word = makeWord(val)\n",
    "    gt_file.write(\"val/{}\\t{}\\n\".format(val, word))\n",
    "\n",
    "# test img id와 label txt파일에 write\n",
    "gt_file = open('./data/gt_test.txt', 'w')\n",
    "for val in test_files:\n",
    "    word = makeWord(val)\n",
    "    gt_file.write(\"test/{}\\t{}\\n\".format(val, word))"
   ]
  }
 ],
 "metadata": {
  "kernelspec": {
   "display_name": "Python 3 (ipykernel)",
   "language": "python",
   "name": "python3"
  },
  "language_info": {
   "codemirror_mode": {
    "name": "ipython",
    "version": 3
   },
   "file_extension": ".py",
   "mimetype": "text/x-python",
   "name": "python",
   "nbconvert_exporter": "python",
   "pygments_lexer": "ipython3",
   "version": "3.8.8"
  },
  "varInspector": {
   "cols": {
    "lenName": 16,
    "lenType": 16,
    "lenVar": 40
   },
   "kernels_config": {
    "python": {
     "delete_cmd_postfix": "",
     "delete_cmd_prefix": "del ",
     "library": "var_list.py",
     "varRefreshCmd": "print(var_dic_list())"
    },
    "r": {
     "delete_cmd_postfix": ") ",
     "delete_cmd_prefix": "rm(",
     "library": "var_list.r",
     "varRefreshCmd": "cat(var_dic_list()) "
    }
   },
   "types_to_exclude": [
    "module",
    "function",
    "builtin_function_or_method",
    "instance",
    "_Feature"
   ],
   "window_display": false
  }
 },
 "nbformat": 4,
 "nbformat_minor": 5
}
